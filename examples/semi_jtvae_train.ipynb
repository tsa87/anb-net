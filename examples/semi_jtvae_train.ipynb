{
 "cells": [
  {
   "cell_type": "code",
   "execution_count": 69,
   "id": "459e0f88-d655-4b86-8701-718c4a077b36",
   "metadata": {},
   "outputs": [
    {
     "name": "stdout",
     "output_type": "stream",
     "text": [
      "The autoreload extension is already loaded. To reload it, use:\n",
      "  %reload_ext autoreload\n"
     ]
    }
   ],
   "source": [
    "%load_ext autoreload\n",
    "%autoreload 2\n",
    "\n",
    "import sys\n",
    "import numpy as np\n",
    "sys.path.append(\"../\")\n",
    "import torch\n",
    "from molecule_optimizer.runner.semi_jtvae import SemiJTVAEGeneratorPredictor\n",
    "from molecule_optimizer.externals.fast_jtnn.datautils import MolTreeFolder, PairTreeFolder, MolTreeDataset,  SemiMolTreeFolder"
   ]
  },
  {
   "cell_type": "code",
   "execution_count": 70,
   "id": "9e2ee3e3-bd0d-4926-a8ac-781c4ccc6126",
   "metadata": {},
   "outputs": [],
   "source": [
    "from rdkit import Chem\n",
    "from rdkit import RDLogger\n",
    "RDLogger.DisableLog('rdApp.*')"
   ]
  },
  {
   "cell_type": "code",
   "execution_count": 71,
   "id": "32832458-342a-4287-ba85-5404f9a4f86e",
   "metadata": {},
   "outputs": [],
   "source": [
    "from dig.ggraph.dataset import ZINC250k, ZINC800\n",
    "from dig.ggraph.evaluation import RandGenEvaluator"
   ]
  },
  {
   "cell_type": "code",
   "execution_count": 72,
   "id": "5c333cf4-62a0-4557-aea2-1e4a1f536f24",
   "metadata": {},
   "outputs": [],
   "source": [
    "path_adj = ''\n",
    "dataset = ZINC800(one_shot=False, root='data')"
   ]
  },
  {
   "cell_type": "code",
   "execution_count": 73,
   "id": "928a1262-ccb7-481b-9dd7-6b5ed42c1d9a",
   "metadata": {},
   "outputs": [],
   "source": [
    "zinc_800_jt = torch.load(\"data/zinc_800_jt/processed/data.pt\")"
   ]
  },
  {
   "cell_type": "code",
   "execution_count": 77,
   "id": "17c24f94-45e2-4aa9-abdb-52d0b68d011e",
   "metadata": {},
   "outputs": [],
   "source": [
    "smiles = zinc_800_jt[-1]\n",
    "labels = zinc_800_jt[0]"
   ]
  },
  {
   "cell_type": "code",
   "execution_count": 78,
   "id": "bfd4769a-5512-4ee6-acf2-156e739a12f9",
   "metadata": {},
   "outputs": [],
   "source": [
    "# Define model\n",
    "jtvae = SemiJTVAEGeneratorPredictor(smiles)\n",
    "config = {\"hidden_size\": 420, \"latent_size\": 56, \"depthT\": 20, \"depthG\": 3, \"label_size\": 1, \"label_mean\": 0, \"label_var\": 1}\n",
    "jtvae.get_model('rand_gen', config)"
   ]
  },
  {
   "cell_type": "code",
   "execution_count": 79,
   "id": "28398855",
   "metadata": {},
   "outputs": [
    {
     "name": "stderr",
     "output_type": "stream",
     "text": [
      "100%|██████████| 800/800 [07:49<00:00,  1.70it/s]\n"
     ]
    },
    {
     "ename": "AttributeError",
     "evalue": "'bool' object has no attribute 'nonzero'",
     "output_type": "error",
     "traceback": [
      "\u001b[0;31m---------------------------------------------------------------------------\u001b[0m",
      "\u001b[0;31mAttributeError\u001b[0m                            Traceback (most recent call last)",
      "\u001b[0;32m/tmp/ipykernel_1062/3960281657.py\u001b[0m in \u001b[0;36m<module>\u001b[0;34m\u001b[0m\n\u001b[0;32m----> 1\u001b[0;31m \u001b[0mpreprocessed\u001b[0m\u001b[0;34m,\u001b[0m \u001b[0mpreprocessed_idxs\u001b[0m \u001b[0;34m=\u001b[0m \u001b[0mjtvae\u001b[0m\u001b[0;34m.\u001b[0m\u001b[0mpreprocess\u001b[0m\u001b[0;34m(\u001b[0m\u001b[0msmiles\u001b[0m\u001b[0;34m)\u001b[0m\u001b[0;34m\u001b[0m\u001b[0;34m\u001b[0m\u001b[0m\n\u001b[0m\u001b[1;32m      2\u001b[0m \u001b[0mpreprocessed\u001b[0m \u001b[0;34m=\u001b[0m \u001b[0mpreprocessed\u001b[0m\u001b[0;34m[\u001b[0m\u001b[0mpreprocessed_idxs\u001b[0m\u001b[0;34m]\u001b[0m\u001b[0;34m\u001b[0m\u001b[0;34m\u001b[0m\u001b[0m\n\u001b[1;32m      3\u001b[0m \u001b[0mlabels\u001b[0m \u001b[0;34m=\u001b[0m \u001b[0mlabels\u001b[0m\u001b[0;34m[\u001b[0m\u001b[0mpreprocessed_idxs\u001b[0m\u001b[0;34m]\u001b[0m\u001b[0;34m\u001b[0m\u001b[0;34m\u001b[0m\u001b[0m\n",
      "\u001b[0;32m~/anbnet/examples/../molecule_optimizer/runner/semi_jtvae.py\u001b[0m in \u001b[0;36mpreprocess\u001b[0;34m(self, list_smiles)\u001b[0m\n\u001b[1;32m     96\u001b[0m             \u001b[0mlist\u001b[0m\u001b[0;34m(\u001b[0m\u001b[0mmap\u001b[0m\u001b[0;34m(\u001b[0m\u001b[0mself\u001b[0m\u001b[0;34m.\u001b[0m\u001b[0m_tensorize\u001b[0m\u001b[0;34m,\u001b[0m \u001b[0mtqdm\u001b[0m\u001b[0;34m(\u001b[0m\u001b[0mlist_smiles\u001b[0m\u001b[0;34m,\u001b[0m \u001b[0mleave\u001b[0m\u001b[0;34m=\u001b[0m\u001b[0;32mTrue\u001b[0m\u001b[0;34m)\u001b[0m\u001b[0;34m)\u001b[0m\u001b[0;34m)\u001b[0m\u001b[0;34m\u001b[0m\u001b[0;34m\u001b[0m\u001b[0m\n\u001b[1;32m     97\u001b[0m         )\n\u001b[0;32m---> 98\u001b[0;31m         \u001b[0mprocessed_idxs\u001b[0m \u001b[0;34m=\u001b[0m \u001b[0;34m(\u001b[0m\u001b[0mpreprocessed\u001b[0m \u001b[0;32mis\u001b[0m \u001b[0;32mnot\u001b[0m \u001b[0;32mNone\u001b[0m\u001b[0;34m)\u001b[0m\u001b[0;34m.\u001b[0m\u001b[0mnonzero\u001b[0m\u001b[0;34m(\u001b[0m\u001b[0;34m)\u001b[0m\u001b[0;34m\u001b[0m\u001b[0;34m\u001b[0m\u001b[0m\n\u001b[0m\u001b[1;32m     99\u001b[0m         \u001b[0;32mreturn\u001b[0m \u001b[0mpreprocessed\u001b[0m\u001b[0;34m,\u001b[0m \u001b[0mprocessed_idxs\u001b[0m\u001b[0;34m\u001b[0m\u001b[0;34m\u001b[0m\u001b[0m\n\u001b[1;32m    100\u001b[0m \u001b[0;34m\u001b[0m\u001b[0m\n",
      "\u001b[0;31mAttributeError\u001b[0m: 'bool' object has no attribute 'nonzero'"
     ]
    }
   ],
   "source": [
    "preprocessed, preprocessed_idxs = jtvae.preprocess(smiles)\n",
    "preprocessed = preprocessed[preprocessed_idxs]\n",
    "labels = labels[preprocessed_idxs]"
   ]
  },
  {
   "cell_type": "code",
   "execution_count": 45,
   "id": "6264b23f-e16b-41c7-85eb-96fd0cda9b96",
   "metadata": {},
   "outputs": [
    {
     "name": "stdout",
     "output_type": "stream",
     "text": [
      "Model #Params: 4260K\n"
     ]
    }
   ],
   "source": [
    "loader = SemiMolTreeFolder(preprocessed, labels, jtvae.vocab, 32, num_workers=0)\n",
    "load_epoch = 0\n",
    "lr = 1e-3\n",
    "anneal_rate = 0.9\n",
    "clip_norm = 50.0\n",
    "num_epochs = 1\n",
    "total_step = 0  # TODO args.load_epoch\n",
    "beta = 0.0  # TODO args.beta\n",
    "max_beta = 1.0\n",
    "save_iter = 5000\n",
    "step_beta = 0.002\n",
    "anneal_iter = 40000\n",
    "print_iter = 50\n",
    "kl_anneal_iter = 2000\n",
    "jtvae.train_rand_gen(loader, load_epoch, lr, anneal_rate, clip_norm, num_epochs, beta, max_beta, step_beta, anneal_iter, kl_anneal_iter, print_iter, save_iter)"
   ]
  },
  {
   "cell_type": "code",
   "execution_count": 46,
   "id": "d1f4d622-6cc7-473a-85dc-2a86185278a3",
   "metadata": {},
   "outputs": [],
   "source": [
    "samples = list(map(Chem.MolFromSmiles, jtvae.run_rand_gen(30)))"
   ]
  },
  {
   "cell_type": "code",
   "execution_count": 47,
   "id": "710f8ff8-9772-4a04-a649-163db82a3903",
   "metadata": {},
   "outputs": [
    {
     "name": "stdout",
     "output_type": "stream",
     "text": [
      "Valid Ratio: 30/30 = 100.00%\n",
      "Unique Ratio: 17/30 = 56.67%\n",
      "Novel Ratio: 30/30 = 100.00%\n",
      "{'valid_ratio': 100.0, 'unique_ratio': 56.666666666666664, 'novel_ratio': 100.0}\n"
     ]
    }
   ],
   "source": [
    "res_dict = {'mols': samples, 'train_smiles': smiles}\n",
    "evaluator = Rand_Gen_Evaluator()\n",
    "results = evaluator.eval(res_dict)\n",
    "print(results)"
   ]
  },
  {
   "cell_type": "code",
   "execution_count": null,
   "id": "f22a61e4-e5aa-444c-b2b8-d5f066f7a047",
   "metadata": {},
   "outputs": [],
   "source": []
  }
 ],
 "metadata": {
  "interpreter": {
   "hash": "a5f3921407ed2f312c71042d9c5ec0b5293ab41f3e2f33c0e66af82e0e397dde"
  },
  "kernelspec": {
   "display_name": "Python [conda env:jtvae37f] *",
   "language": "python",
   "name": "python3"
  },
  "language_info": {
   "codemirror_mode": {
    "name": "ipython",
    "version": 3
   },
   "file_extension": ".py",
   "mimetype": "text/x-python",
   "name": "python",
   "nbconvert_exporter": "python",
   "pygments_lexer": "ipython3",
   "version": "3.9.9"
  }
 },
 "nbformat": 4,
 "nbformat_minor": 5
}

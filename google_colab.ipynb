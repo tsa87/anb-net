{
  "nbformat": 4,
  "nbformat_minor": 0,
  "metadata": {
    "colab": {
      "name": "google_colab.ipynb",
      "provenance": [],
      "machine_shape": "hm",
      "collapsed_sections": [],
      "authorship_tag": "ABX9TyMsUsOCcawzhoPmPsl2hd3Y",
      "include_colab_link": true
    },
    "kernelspec": {
      "name": "python3",
      "display_name": "Python 3"
    },
    "language_info": {
      "name": "python"
    },
    "accelerator": "GPU"
  },
  "cells": [
    {
      "cell_type": "markdown",
      "metadata": {
        "id": "view-in-github",
        "colab_type": "text"
      },
      "source": [
        "<a href=\"https://colab.research.google.com/github/tsa87/anb-net/blob/master/google_colab.ipynb\" target=\"_parent\"><img src=\"https://colab.research.google.com/assets/colab-badge.svg\" alt=\"Open In Colab\"/></a>"
      ]
    },
    {
      "cell_type": "code",
      "execution_count": 1,
      "metadata": {
        "colab": {
          "base_uri": "https://localhost:8080/"
        },
        "id": "guV5MREtUXjp",
        "outputId": "40e6f819-3823-4b27-b569-ef8f3978beb1"
      },
      "outputs": [
        {
          "output_type": "stream",
          "name": "stdout",
          "text": [
            "Wed Jan 19 04:01:50 2022       \n",
            "+-----------------------------------------------------------------------------+\n",
            "| NVIDIA-SMI 495.46       Driver Version: 460.32.03    CUDA Version: 11.2     |\n",
            "|-------------------------------+----------------------+----------------------+\n",
            "| GPU  Name        Persistence-M| Bus-Id        Disp.A | Volatile Uncorr. ECC |\n",
            "| Fan  Temp  Perf  Pwr:Usage/Cap|         Memory-Usage | GPU-Util  Compute M. |\n",
            "|                               |                      |               MIG M. |\n",
            "|===============================+======================+======================|\n",
            "|   0  Tesla P100-PCIE...  Off  | 00000000:00:04.0 Off |                    0 |\n",
            "| N/A   37C    P0    26W / 250W |      0MiB / 16280MiB |      0%      Default |\n",
            "|                               |                      |                  N/A |\n",
            "+-------------------------------+----------------------+----------------------+\n",
            "                                                                               \n",
            "+-----------------------------------------------------------------------------+\n",
            "| Processes:                                                                  |\n",
            "|  GPU   GI   CI        PID   Type   Process name                  GPU Memory |\n",
            "|        ID   ID                                                   Usage      |\n",
            "|=============================================================================|\n",
            "|  No running processes found                                                 |\n",
            "+-----------------------------------------------------------------------------+\n"
          ]
        }
      ],
      "source": [
        "gpu_info = !nvidia-smi\n",
        "gpu_info = '\\n'.join(gpu_info)\n",
        "if gpu_info.find('failed') >= 0:\n",
        "  print('Not connected to a GPU')\n",
        "else:\n",
        "  print(gpu_info)"
      ]
    },
    {
      "cell_type": "code",
      "source": [
        "from psutil import virtual_memory\n",
        "ram_gb = virtual_memory().total / 1e9\n",
        "print('Your runtime has {:.1f} gigabytes of available RAM\\n'.format(ram_gb))\n",
        "\n",
        "if ram_gb < 20:\n",
        "  print('Not using a high-RAM runtime')\n",
        "else:\n",
        "  print('You are using a high-RAM runtime!')"
      ],
      "metadata": {
        "colab": {
          "base_uri": "https://localhost:8080/"
        },
        "id": "shGMcYBm3Nic",
        "outputId": "e8115f5c-78c3-40c0-9372-40a35d1d8c69"
      },
      "execution_count": 2,
      "outputs": [
        {
          "output_type": "stream",
          "name": "stdout",
          "text": [
            "Your runtime has 27.3 gigabytes of available RAM\n",
            "\n",
            "You are using a high-RAM runtime!\n"
          ]
        }
      ]
    },
    {
      "cell_type": "code",
      "source": [
        "!pip install torch==1.10.1+cu113 -f https://download.pytorch.org/whl/cu113/torch_stable.html\n",
        "!pip install torch-scatter torch-sparse torch-cluster torch-spline-conv torch-geometric -f https://data.pyg.org/whl/torch-1.10.0+cu113.html\n",
        "!pip install dive-into-graphs"
      ],
      "metadata": {
        "colab": {
          "base_uri": "https://localhost:8080/",
          "height": 1000
        },
        "id": "JDinHdioUZRH",
        "outputId": "90c7e5df-1279-448f-e4bb-25a099127186"
      },
      "execution_count": 3,
      "outputs": [
        {
          "output_type": "stream",
          "name": "stdout",
          "text": [
            "Looking in links: https://download.pytorch.org/whl/cu113/torch_stable.html\n",
            "Collecting torch==1.10.1+cu113\n",
            "  Downloading https://download.pytorch.org/whl/cu113/torch-1.10.1%2Bcu113-cp37-cp37m-linux_x86_64.whl (1821.5 MB)\n",
            "\u001b[K     |██████████████▋                 | 834.1 MB 1.4 MB/s eta 0:11:42tcmalloc: large alloc 1147494400 bytes == 0x55d89b5ae000 @  0x7f89fc107615 0x55d8624174cc 0x55d8624f747a 0x55d86241a2ed 0x55d86250be1d 0x55d86248de99 0x55d8624889ee 0x55d86241bbda 0x55d86248dd00 0x55d8624889ee 0x55d86241bbda 0x55d86248a737 0x55d86250cc66 0x55d862489daf 0x55d86250cc66 0x55d862489daf 0x55d86250cc66 0x55d862489daf 0x55d86241c039 0x55d86245f409 0x55d86241ac52 0x55d86248dc25 0x55d8624889ee 0x55d86241bbda 0x55d86248a737 0x55d8624889ee 0x55d86241bbda 0x55d862489915 0x55d86241bafa 0x55d862489c0d 0x55d8624889ee\n",
            "\u001b[K     |██████████████████▌             | 1055.7 MB 1.4 MB/s eta 0:09:27tcmalloc: large alloc 1434370048 bytes == 0x55d8dfc04000 @  0x7f89fc107615 0x55d8624174cc 0x55d8624f747a 0x55d86241a2ed 0x55d86250be1d 0x55d86248de99 0x55d8624889ee 0x55d86241bbda 0x55d86248dd00 0x55d8624889ee 0x55d86241bbda 0x55d86248a737 0x55d86250cc66 0x55d862489daf 0x55d86250cc66 0x55d862489daf 0x55d86250cc66 0x55d862489daf 0x55d86241c039 0x55d86245f409 0x55d86241ac52 0x55d86248dc25 0x55d8624889ee 0x55d86241bbda 0x55d86248a737 0x55d8624889ee 0x55d86241bbda 0x55d862489915 0x55d86241bafa 0x55d862489c0d 0x55d8624889ee\n",
            "\u001b[K     |███████████████████████▌        | 1336.2 MB 1.3 MB/s eta 0:06:23tcmalloc: large alloc 1792966656 bytes == 0x55d864a36000 @  0x7f89fc107615 0x55d8624174cc 0x55d8624f747a 0x55d86241a2ed 0x55d86250be1d 0x55d86248de99 0x55d8624889ee 0x55d86241bbda 0x55d86248dd00 0x55d8624889ee 0x55d86241bbda 0x55d86248a737 0x55d86250cc66 0x55d862489daf 0x55d86250cc66 0x55d862489daf 0x55d86250cc66 0x55d862489daf 0x55d86241c039 0x55d86245f409 0x55d86241ac52 0x55d86248dc25 0x55d8624889ee 0x55d86241bbda 0x55d86248a737 0x55d8624889ee 0x55d86241bbda 0x55d862489915 0x55d86241bafa 0x55d862489c0d 0x55d8624889ee\n",
            "\u001b[K     |█████████████████████████████▊  | 1691.1 MB 1.3 MB/s eta 0:01:44tcmalloc: large alloc 2241208320 bytes == 0x55d8cf81e000 @  0x7f89fc107615 0x55d8624174cc 0x55d8624f747a 0x55d86241a2ed 0x55d86250be1d 0x55d86248de99 0x55d8624889ee 0x55d86241bbda 0x55d86248dd00 0x55d8624889ee 0x55d86241bbda 0x55d86248a737 0x55d86250cc66 0x55d862489daf 0x55d86250cc66 0x55d862489daf 0x55d86250cc66 0x55d862489daf 0x55d86241c039 0x55d86245f409 0x55d86241ac52 0x55d86248dc25 0x55d8624889ee 0x55d86241bbda 0x55d86248a737 0x55d8624889ee 0x55d86241bbda 0x55d862489915 0x55d86241bafa 0x55d862489c0d 0x55d8624889ee\n",
            "\u001b[K     |████████████████████████████████| 1821.5 MB 1.3 MB/s eta 0:00:01tcmalloc: large alloc 1821458432 bytes == 0x55d955180000 @  0x7f89fc1061e7 0x55d86244d067 0x55d8624174cc 0x55d8624f747a 0x55d86241a2ed 0x55d86250be1d 0x55d86248de99 0x55d8624889ee 0x55d86241bbda 0x55d862489c0d 0x55d8624889ee 0x55d86241bbda 0x55d862489c0d 0x55d8624889ee 0x55d86241bbda 0x55d862489c0d 0x55d8624889ee 0x55d86241bbda 0x55d862489c0d 0x55d8624889ee 0x55d86241bbda 0x55d862489c0d 0x55d86241bafa 0x55d862489c0d 0x55d8624889ee 0x55d86241bbda 0x55d86248a737 0x55d8624889ee 0x55d86241bbda 0x55d86248a737 0x55d8624889ee\n",
            "tcmalloc: large alloc 2276827136 bytes == 0x55d9c1a94000 @  0x7f89fc107615 0x55d8624174cc 0x55d8624f747a 0x55d86241a2ed 0x55d86250be1d 0x55d86248de99 0x55d8624889ee 0x55d86241bbda 0x55d862489c0d 0x55d8624889ee 0x55d86241bbda 0x55d862489c0d 0x55d8624889ee 0x55d86241bbda 0x55d862489c0d 0x55d8624889ee 0x55d86241bbda 0x55d862489c0d 0x55d8624889ee 0x55d86241bbda 0x55d862489c0d 0x55d86241bafa 0x55d862489c0d 0x55d8624889ee 0x55d86241bbda 0x55d86248a737 0x55d8624889ee 0x55d86241bbda 0x55d86248a737 0x55d8624889ee 0x55d86241c271\n",
            "\u001b[K     |████████████████████████████████| 1821.5 MB 5.2 kB/s \n",
            "\u001b[?25hRequirement already satisfied: typing-extensions in /usr/local/lib/python3.7/dist-packages (from torch==1.10.1+cu113) (3.10.0.2)\n",
            "Installing collected packages: torch\n",
            "  Attempting uninstall: torch\n",
            "    Found existing installation: torch 1.10.0+cu111\n",
            "    Uninstalling torch-1.10.0+cu111:\n",
            "      Successfully uninstalled torch-1.10.0+cu111\n",
            "\u001b[31mERROR: pip's dependency resolver does not currently take into account all the packages that are installed. This behaviour is the source of the following dependency conflicts.\n",
            "torchvision 0.11.1+cu111 requires torch==1.10.0, but you have torch 1.10.1+cu113 which is incompatible.\n",
            "torchtext 0.11.0 requires torch==1.10.0, but you have torch 1.10.1+cu113 which is incompatible.\n",
            "torchaudio 0.10.0+cu111 requires torch==1.10.0, but you have torch 1.10.1+cu113 which is incompatible.\u001b[0m\n",
            "Successfully installed torch-1.10.1+cu113\n",
            "Looking in links: https://data.pyg.org/whl/torch-1.10.0+cu113.html\n",
            "Collecting torch-scatter\n",
            "  Downloading https://data.pyg.org/whl/torch-1.10.0%2Bcu113/torch_scatter-2.0.9-cp37-cp37m-linux_x86_64.whl (7.9 MB)\n",
            "\u001b[K     |████████████████████████████████| 7.9 MB 5.5 MB/s \n",
            "\u001b[?25hCollecting torch-sparse\n",
            "  Downloading https://data.pyg.org/whl/torch-1.10.0%2Bcu113/torch_sparse-0.6.12-cp37-cp37m-linux_x86_64.whl (3.5 MB)\n",
            "\u001b[K     |████████████████████████████████| 3.5 MB 27.7 MB/s \n",
            "\u001b[?25hCollecting torch-cluster\n",
            "  Downloading https://data.pyg.org/whl/torch-1.10.0%2Bcu113/torch_cluster-1.5.9-cp37-cp37m-linux_x86_64.whl (2.3 MB)\n",
            "\u001b[K     |████████████████████████████████| 2.3 MB 4.8 MB/s \n",
            "\u001b[?25hCollecting torch-spline-conv\n",
            "  Downloading https://data.pyg.org/whl/torch-1.10.0%2Bcu113/torch_spline_conv-1.2.1-cp37-cp37m-linux_x86_64.whl (747 kB)\n",
            "\u001b[K     |████████████████████████████████| 747 kB 7.3 MB/s \n",
            "\u001b[?25hCollecting torch-geometric\n",
            "  Downloading torch_geometric-2.0.3.tar.gz (370 kB)\n",
            "\u001b[K     |████████████████████████████████| 370 kB 8.5 MB/s \n",
            "\u001b[?25hRequirement already satisfied: scipy in /usr/local/lib/python3.7/dist-packages (from torch-sparse) (1.4.1)\n",
            "Requirement already satisfied: numpy in /usr/local/lib/python3.7/dist-packages (from torch-geometric) (1.19.5)\n",
            "Requirement already satisfied: tqdm in /usr/local/lib/python3.7/dist-packages (from torch-geometric) (4.62.3)\n",
            "Requirement already satisfied: networkx in /usr/local/lib/python3.7/dist-packages (from torch-geometric) (2.6.3)\n",
            "Requirement already satisfied: scikit-learn in /usr/local/lib/python3.7/dist-packages (from torch-geometric) (1.0.2)\n",
            "Requirement already satisfied: requests in /usr/local/lib/python3.7/dist-packages (from torch-geometric) (2.23.0)\n",
            "Requirement already satisfied: pandas in /usr/local/lib/python3.7/dist-packages (from torch-geometric) (1.1.5)\n",
            "Collecting rdflib\n",
            "  Downloading rdflib-6.1.1-py3-none-any.whl (482 kB)\n",
            "\u001b[K     |████████████████████████████████| 482 kB 63.0 MB/s \n",
            "\u001b[?25hRequirement already satisfied: googledrivedownloader in /usr/local/lib/python3.7/dist-packages (from torch-geometric) (0.4)\n",
            "Requirement already satisfied: jinja2 in /usr/local/lib/python3.7/dist-packages (from torch-geometric) (2.11.3)\n",
            "Requirement already satisfied: pyparsing in /usr/local/lib/python3.7/dist-packages (from torch-geometric) (3.0.6)\n",
            "Collecting yacs\n",
            "  Downloading yacs-0.1.8-py3-none-any.whl (14 kB)\n",
            "Requirement already satisfied: PyYAML in /usr/local/lib/python3.7/dist-packages (from torch-geometric) (3.13)\n",
            "Requirement already satisfied: MarkupSafe>=0.23 in /usr/local/lib/python3.7/dist-packages (from jinja2->torch-geometric) (2.0.1)\n",
            "Requirement already satisfied: python-dateutil>=2.7.3 in /usr/local/lib/python3.7/dist-packages (from pandas->torch-geometric) (2.8.2)\n",
            "Requirement already satisfied: pytz>=2017.2 in /usr/local/lib/python3.7/dist-packages (from pandas->torch-geometric) (2018.9)\n",
            "Requirement already satisfied: six>=1.5 in /usr/local/lib/python3.7/dist-packages (from python-dateutil>=2.7.3->pandas->torch-geometric) (1.15.0)\n",
            "Requirement already satisfied: importlib-metadata in /usr/local/lib/python3.7/dist-packages (from rdflib->torch-geometric) (4.10.0)\n",
            "Requirement already satisfied: setuptools in /usr/local/lib/python3.7/dist-packages (from rdflib->torch-geometric) (57.4.0)\n",
            "Collecting isodate\n",
            "  Downloading isodate-0.6.1-py2.py3-none-any.whl (41 kB)\n",
            "\u001b[K     |████████████████████████████████| 41 kB 646 kB/s \n",
            "\u001b[?25hRequirement already satisfied: zipp>=0.5 in /usr/local/lib/python3.7/dist-packages (from importlib-metadata->rdflib->torch-geometric) (3.7.0)\n",
            "Requirement already satisfied: typing-extensions>=3.6.4 in /usr/local/lib/python3.7/dist-packages (from importlib-metadata->rdflib->torch-geometric) (3.10.0.2)\n",
            "Requirement already satisfied: chardet<4,>=3.0.2 in /usr/local/lib/python3.7/dist-packages (from requests->torch-geometric) (3.0.4)\n",
            "Requirement already satisfied: certifi>=2017.4.17 in /usr/local/lib/python3.7/dist-packages (from requests->torch-geometric) (2021.10.8)\n",
            "Requirement already satisfied: urllib3!=1.25.0,!=1.25.1,<1.26,>=1.21.1 in /usr/local/lib/python3.7/dist-packages (from requests->torch-geometric) (1.24.3)\n",
            "Requirement already satisfied: idna<3,>=2.5 in /usr/local/lib/python3.7/dist-packages (from requests->torch-geometric) (2.10)\n",
            "Requirement already satisfied: threadpoolctl>=2.0.0 in /usr/local/lib/python3.7/dist-packages (from scikit-learn->torch-geometric) (3.0.0)\n",
            "Requirement already satisfied: joblib>=0.11 in /usr/local/lib/python3.7/dist-packages (from scikit-learn->torch-geometric) (1.1.0)\n",
            "Building wheels for collected packages: torch-geometric\n",
            "  Building wheel for torch-geometric (setup.py) ... \u001b[?25l\u001b[?25hdone\n",
            "  Created wheel for torch-geometric: filename=torch_geometric-2.0.3-py3-none-any.whl size=581968 sha256=8e63cc17d90aee2ff60b57cb729abc201649ba9eb452095a420fb0944fafc70c\n",
            "  Stored in directory: /root/.cache/pip/wheels/c3/2a/58/87ce0508964d4def1aafb92750c4f3ac77038efd1b9a89dcf5\n",
            "Successfully built torch-geometric\n",
            "Installing collected packages: isodate, yacs, rdflib, torch-spline-conv, torch-sparse, torch-scatter, torch-geometric, torch-cluster\n",
            "Successfully installed isodate-0.6.1 rdflib-6.1.1 torch-cluster-1.5.9 torch-geometric-2.0.3 torch-scatter-2.0.9 torch-sparse-0.6.12 torch-spline-conv-1.2.1 yacs-0.1.8\n",
            "Collecting dive-into-graphs\n",
            "  Downloading dive_into_graphs-0.1.2-py3-none-any.whl (4.1 MB)\n",
            "\u001b[K     |████████████████████████████████| 4.1 MB 8.2 MB/s \n",
            "\u001b[?25hRequirement already satisfied: sympy in /usr/local/lib/python3.7/dist-packages (from dive-into-graphs) (1.7.1)\n",
            "Collecting captum==0.2.0\n",
            "  Downloading captum-0.2.0-py3-none-any.whl (1.4 MB)\n",
            "\u001b[K     |████████████████████████████████| 1.4 MB 40.8 MB/s \n",
            "\u001b[?25hCollecting rdkit-pypi\n",
            "  Downloading rdkit_pypi-2021.9.4-cp37-cp37m-manylinux_2_17_x86_64.manylinux2014_x86_64.whl (20.6 MB)\n",
            "\u001b[K     |████████████████████████████████| 20.6 MB 43 kB/s \n",
            "\u001b[?25hCollecting cilog\n",
            "  Downloading cilog-1.2.2-py3-none-any.whl (14 kB)\n",
            "Requirement already satisfied: pandas in /usr/local/lib/python3.7/dist-packages (from dive-into-graphs) (1.1.5)\n",
            "Collecting typed-argument-parser==1.5.4\n",
            "  Downloading typed-argument-parser-1.5.4.tar.gz (22 kB)\n",
            "Requirement already satisfied: scipy in /usr/local/lib/python3.7/dist-packages (from dive-into-graphs) (1.4.1)\n",
            "Collecting hydra-core\n",
            "  Downloading hydra_core-1.1.1-py3-none-any.whl (145 kB)\n",
            "\u001b[K     |████████████████████████████████| 145 kB 62.9 MB/s \n",
            "\u001b[?25hCollecting shap\n",
            "  Downloading shap-0.40.0-cp37-cp37m-manylinux2010_x86_64.whl (564 kB)\n",
            "\u001b[K     |████████████████████████████████| 564 kB 62.5 MB/s \n",
            "\u001b[?25hRequirement already satisfied: tqdm in /usr/local/lib/python3.7/dist-packages (from dive-into-graphs) (4.62.3)\n",
            "Requirement already satisfied: IPython in /usr/local/lib/python3.7/dist-packages (from dive-into-graphs) (5.5.0)\n",
            "Requirement already satisfied: numpy in /usr/local/lib/python3.7/dist-packages (from captum==0.2.0->dive-into-graphs) (1.19.5)\n",
            "Requirement already satisfied: matplotlib in /usr/local/lib/python3.7/dist-packages (from captum==0.2.0->dive-into-graphs) (3.2.2)\n",
            "Requirement already satisfied: torch>=1.2 in /usr/local/lib/python3.7/dist-packages (from captum==0.2.0->dive-into-graphs) (1.10.1+cu113)\n",
            "Requirement already satisfied: typing_extensions>=3.7.4 in /usr/local/lib/python3.7/dist-packages (from typed-argument-parser==1.5.4->dive-into-graphs) (3.10.0.2)\n",
            "Collecting typing-inspect>=0.5\n",
            "  Downloading typing_inspect-0.7.1-py3-none-any.whl (8.4 kB)\n",
            "Collecting mypy-extensions>=0.3.0\n",
            "  Downloading mypy_extensions-0.4.3-py2.py3-none-any.whl (4.5 kB)\n",
            "Requirement already satisfied: openpyxl in /usr/local/lib/python3.7/dist-packages (from cilog->dive-into-graphs) (2.5.9)\n",
            "Requirement already satisfied: tabulate in /usr/local/lib/python3.7/dist-packages (from cilog->dive-into-graphs) (0.8.9)\n",
            "Requirement already satisfied: importlib-resources in /usr/local/lib/python3.7/dist-packages (from hydra-core->dive-into-graphs) (5.4.0)\n",
            "Collecting antlr4-python3-runtime==4.8\n",
            "  Downloading antlr4-python3-runtime-4.8.tar.gz (112 kB)\n",
            "\u001b[K     |████████████████████████████████| 112 kB 65.9 MB/s \n",
            "\u001b[?25hCollecting omegaconf==2.1.*\n",
            "  Downloading omegaconf-2.1.1-py3-none-any.whl (74 kB)\n",
            "\u001b[K     |████████████████████████████████| 74 kB 3.1 MB/s \n",
            "\u001b[?25hCollecting PyYAML>=5.1.0\n",
            "  Downloading PyYAML-6.0-cp37-cp37m-manylinux_2_5_x86_64.manylinux1_x86_64.manylinux_2_12_x86_64.manylinux2010_x86_64.whl (596 kB)\n",
            "\u001b[K     |████████████████████████████████| 596 kB 62.0 MB/s \n",
            "\u001b[?25hRequirement already satisfied: zipp>=3.1.0 in /usr/local/lib/python3.7/dist-packages (from importlib-resources->hydra-core->dive-into-graphs) (3.7.0)\n",
            "Requirement already satisfied: pickleshare in /usr/local/lib/python3.7/dist-packages (from IPython->dive-into-graphs) (0.7.5)\n",
            "Requirement already satisfied: pygments in /usr/local/lib/python3.7/dist-packages (from IPython->dive-into-graphs) (2.6.1)\n",
            "Requirement already satisfied: setuptools>=18.5 in /usr/local/lib/python3.7/dist-packages (from IPython->dive-into-graphs) (57.4.0)\n",
            "Requirement already satisfied: simplegeneric>0.8 in /usr/local/lib/python3.7/dist-packages (from IPython->dive-into-graphs) (0.8.1)\n",
            "Requirement already satisfied: pexpect in /usr/local/lib/python3.7/dist-packages (from IPython->dive-into-graphs) (4.8.0)\n",
            "Requirement already satisfied: traitlets>=4.2 in /usr/local/lib/python3.7/dist-packages (from IPython->dive-into-graphs) (5.1.1)\n",
            "Requirement already satisfied: decorator in /usr/local/lib/python3.7/dist-packages (from IPython->dive-into-graphs) (4.4.2)\n",
            "Requirement already satisfied: prompt-toolkit<2.0.0,>=1.0.4 in /usr/local/lib/python3.7/dist-packages (from IPython->dive-into-graphs) (1.0.18)\n",
            "Requirement already satisfied: six>=1.9.0 in /usr/local/lib/python3.7/dist-packages (from prompt-toolkit<2.0.0,>=1.0.4->IPython->dive-into-graphs) (1.15.0)\n",
            "Requirement already satisfied: wcwidth in /usr/local/lib/python3.7/dist-packages (from prompt-toolkit<2.0.0,>=1.0.4->IPython->dive-into-graphs) (0.2.5)\n",
            "Requirement already satisfied: python-dateutil>=2.1 in /usr/local/lib/python3.7/dist-packages (from matplotlib->captum==0.2.0->dive-into-graphs) (2.8.2)\n",
            "Requirement already satisfied: kiwisolver>=1.0.1 in /usr/local/lib/python3.7/dist-packages (from matplotlib->captum==0.2.0->dive-into-graphs) (1.3.2)\n",
            "Requirement already satisfied: pyparsing!=2.0.4,!=2.1.2,!=2.1.6,>=2.0.1 in /usr/local/lib/python3.7/dist-packages (from matplotlib->captum==0.2.0->dive-into-graphs) (3.0.6)\n",
            "Requirement already satisfied: cycler>=0.10 in /usr/local/lib/python3.7/dist-packages (from matplotlib->captum==0.2.0->dive-into-graphs) (0.11.0)\n",
            "Requirement already satisfied: et-xmlfile in /usr/local/lib/python3.7/dist-packages (from openpyxl->cilog->dive-into-graphs) (1.1.0)\n",
            "Requirement already satisfied: jdcal in /usr/local/lib/python3.7/dist-packages (from openpyxl->cilog->dive-into-graphs) (1.4.1)\n",
            "Requirement already satisfied: pytz>=2017.2 in /usr/local/lib/python3.7/dist-packages (from pandas->dive-into-graphs) (2018.9)\n",
            "Requirement already satisfied: ptyprocess>=0.5 in /usr/local/lib/python3.7/dist-packages (from pexpect->IPython->dive-into-graphs) (0.7.0)\n",
            "Requirement already satisfied: Pillow in /usr/local/lib/python3.7/dist-packages (from rdkit-pypi->dive-into-graphs) (7.1.2)\n",
            "Requirement already satisfied: numba in /usr/local/lib/python3.7/dist-packages (from shap->dive-into-graphs) (0.51.2)\n",
            "Requirement already satisfied: cloudpickle in /usr/local/lib/python3.7/dist-packages (from shap->dive-into-graphs) (1.3.0)\n",
            "Requirement already satisfied: scikit-learn in /usr/local/lib/python3.7/dist-packages (from shap->dive-into-graphs) (1.0.2)\n",
            "Requirement already satisfied: packaging>20.9 in /usr/local/lib/python3.7/dist-packages (from shap->dive-into-graphs) (21.3)\n",
            "Collecting slicer==0.0.7\n",
            "  Downloading slicer-0.0.7-py3-none-any.whl (14 kB)\n",
            "Requirement already satisfied: llvmlite<0.35,>=0.34.0.dev0 in /usr/local/lib/python3.7/dist-packages (from numba->shap->dive-into-graphs) (0.34.0)\n",
            "Requirement already satisfied: joblib>=0.11 in /usr/local/lib/python3.7/dist-packages (from scikit-learn->shap->dive-into-graphs) (1.1.0)\n",
            "Requirement already satisfied: threadpoolctl>=2.0.0 in /usr/local/lib/python3.7/dist-packages (from scikit-learn->shap->dive-into-graphs) (3.0.0)\n",
            "Requirement already satisfied: mpmath>=0.19 in /usr/local/lib/python3.7/dist-packages (from sympy->dive-into-graphs) (1.2.1)\n",
            "Building wheels for collected packages: typed-argument-parser, antlr4-python3-runtime\n",
            "  Building wheel for typed-argument-parser (setup.py) ... \u001b[?25l\u001b[?25hdone\n",
            "  Created wheel for typed-argument-parser: filename=typed_argument_parser-1.5.4-py3-none-any.whl size=18301 sha256=c25fda90b0677b6c90cb625948f30f42f37d801facd1a25532e442906258e318\n",
            "  Stored in directory: /root/.cache/pip/wheels/fc/f8/d2/1850774c1ea9859022eb6ca41fc6d428577abadec0dc3ed99b\n",
            "  Building wheel for antlr4-python3-runtime (setup.py) ... \u001b[?25l\u001b[?25hdone\n",
            "  Created wheel for antlr4-python3-runtime: filename=antlr4_python3_runtime-4.8-py3-none-any.whl size=141230 sha256=75c2c4438d7a12d03dac735eee3813df44ac7928aafa22788097f0db46f61681\n",
            "  Stored in directory: /root/.cache/pip/wheels/ca/33/b7/336836125fc9bb4ceaa4376d8abca10ca8bc84ddc824baea6c\n",
            "Successfully built typed-argument-parser antlr4-python3-runtime\n",
            "Installing collected packages: PyYAML, mypy-extensions, antlr4-python3-runtime, typing-inspect, slicer, omegaconf, typed-argument-parser, shap, rdkit-pypi, hydra-core, cilog, captum, dive-into-graphs\n",
            "  Attempting uninstall: PyYAML\n",
            "    Found existing installation: PyYAML 3.13\n",
            "    Uninstalling PyYAML-3.13:\n",
            "      Successfully uninstalled PyYAML-3.13\n",
            "Successfully installed PyYAML-6.0 antlr4-python3-runtime-4.8 captum-0.2.0 cilog-1.2.2 dive-into-graphs-0.1.2 hydra-core-1.1.1 mypy-extensions-0.4.3 omegaconf-2.1.1 rdkit-pypi-2021.9.4 shap-0.40.0 slicer-0.0.7 typed-argument-parser-1.5.4 typing-inspect-0.7.1\n"
          ]
        },
        {
          "output_type": "display_data",
          "data": {
            "application/vnd.colab-display-data+json": {
              "pip_warning": {
                "packages": [
                  "pydevd_plugins"
                ]
              }
            }
          },
          "metadata": {}
        }
      ]
    },
    {
      "cell_type": "code",
      "source": [
        "!git clone https://github.com/tsa87/anb-net\n",
        "%cd anb-net"
      ],
      "metadata": {
        "colab": {
          "base_uri": "https://localhost:8080/"
        },
        "id": "XryC9VxeWsP3",
        "outputId": "6bfc3f51-6ac5-419d-f191-9b26a938aac5"
      },
      "execution_count": 4,
      "outputs": [
        {
          "output_type": "stream",
          "name": "stdout",
          "text": [
            "Cloning into 'anb-net'...\n",
            "remote: Enumerating objects: 101, done.\u001b[K\n",
            "remote: Counting objects: 100% (101/101), done.\u001b[K\n",
            "remote: Compressing objects: 100% (64/64), done.\u001b[K\n",
            "remote: Total 101 (delta 31), reused 97 (delta 27), pack-reused 0\u001b[K\n",
            "Receiving objects: 100% (101/101), 7.89 MiB | 24.42 MiB/s, done.\n",
            "Resolving deltas: 100% (31/31), done.\n",
            "/content/anb-net\n"
          ]
        }
      ]
    },
    {
      "cell_type": "code",
      "source": [
        "%load_ext autoreload\n",
        "%autoreload 2\n",
        "import os\n",
        "import json\n",
        "import argparse\n",
        "\n",
        "import numpy as np\n",
        "import torch\n",
        "\n",
        "from dig.ggraph.dataset import ZINC250k, ZINC800\n",
        "from molecule_optimizer.externals.fast_jtnn.datautils import SemiMolTreeFolder\n",
        "from molecule_optimizer.runner.semi_jtvae import SemiJTVAEGeneratorPredictor\n",
        "from torch_geometric.data import DenseDataLoader\n",
        "\n",
        "conf = json.load(open(\"training/configs/rand_gen_zinc250k_config_dict.json\"))\n",
        "\n",
        "_ = ZINC800(\n",
        "        one_shot=False,\n",
        "        use_aug=False,\n",
        "        root=\"../data/zinc\",\n",
        "    )\n",
        "\n",
        "zinc_250_jt = torch.load(\n",
        "    os.path.join(\"../data/zinc\", \"zinc_800_jt/processed/data.pt\")\n",
        ")\n",
        "smiles = zinc_250_jt[-1]\n",
        "labels = zinc_250_jt[0].y"
      ],
      "metadata": {
        "colab": {
          "base_uri": "https://localhost:8080/"
        },
        "id": "_RKgd8MsYOYh",
        "outputId": "b2f643a1-147a-4d9d-961d-b3ae51523497"
      },
      "execution_count": 5,
      "outputs": [
        {
          "output_type": "stream",
          "name": "stdout",
          "text": [
            "making raw files: ../data/zinc/raw\n"
          ]
        },
        {
          "output_type": "stream",
          "name": "stderr",
          "text": [
            "Downloading https://raw.githubusercontent.com/divelab/DIG_storage/main/ggraph/zinc_800_jt.csv\n"
          ]
        },
        {
          "output_type": "stream",
          "name": "stdout",
          "text": [
            "Processing...\n",
            "making processed files: ../data/zinc/zinc_800_jt/processed\n",
            "Done!\n"
          ]
        }
      ]
    },
    {
      "cell_type": "code",
      "source": [
        "jtvae = SemiJTVAEGeneratorPredictor(smiles)"
      ],
      "metadata": {
        "id": "0-1xXVU15z6N"
      },
      "execution_count": 6,
      "outputs": []
    },
    {
      "cell_type": "code",
      "source": [
        "preprocessed, labels = jtvae.preprocess(smiles, labels)"
      ],
      "metadata": {
        "id": "IGnpfkM_KQXi"
      },
      "execution_count": null,
      "outputs": []
    },
    {
      "cell_type": "code",
      "source": [
        "jtvae.get_model(\n",
        "    \"rand_gen\",\n",
        "    {\n",
        "        \"hidden_size\": conf[\"hidden_size\"],\n",
        "        \"latent_size\": conf[\"latent_size\"],\n",
        "        \"depthT\": conf[\"depthT\"],\n",
        "        \"depthG\": conf[\"depthG\"],\n",
        "        \"label_size\": 1,\n",
        "        \"label_mean\": 0,\n",
        "        \"label_var\": 1,\n",
        "    },\n",
        ")"
      ],
      "metadata": {
        "id": "bR2JKT4oAmJN"
      },
      "execution_count": null,
      "outputs": []
    },
    {
      "cell_type": "code",
      "source": [
        "loader = SemiMolTreeFolder(\n",
        "    preprocessed,\n",
        "    labels,\n",
        "    jtvae.vocab,\n",
        "    conf[\"batch_size\"],\n",
        "    num_workers=conf[\"num_workers\"],\n",
        ")"
      ],
      "metadata": {
        "id": "k19uZMZN9H05"
      },
      "execution_count": null,
      "outputs": []
    },
    {
      "cell_type": "code",
      "source": [
        "print(\"Training model...\")\n",
        "jtvae.train_gen_pred(\n",
        "    loader=loader,\n",
        "    load_epoch=0,\n",
        "    lr=conf[\"lr\"],\n",
        "    anneal_rate = 0.9,\n",
        "    clip_norm = 50.0,\n",
        "    num_epochs = 5,\n",
        "    alpha = 0.1,\n",
        "    beta = 0.0,\n",
        "    max_beta = 1.0,\n",
        "    step_beta = 0.002,\n",
        "    anneal_iter = 40000,\n",
        "    kl_anneal_iter = 2000,\n",
        "    print_iter = 1,\n",
        "    save_iter = 5000\n",
        ")"
      ],
      "metadata": {
        "id": "TMxgCK1Y20mu"
      },
      "execution_count": null,
      "outputs": []
    },
    {
      "cell_type": "code",
      "source": [
        ""
      ],
      "metadata": {
        "id": "8xuRfCE039_5"
      },
      "execution_count": null,
      "outputs": []
    }
  ]
}
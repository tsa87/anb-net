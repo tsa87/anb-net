{
 "cells": [
  {
   "cell_type": "code",
   "execution_count": 1,
   "metadata": {},
   "outputs": [],
   "source": [
    "# lr:0.001\n",
    "# anneal_rate:0.9\n",
    "# batch_size:32\n",
    "# clip_norm:50\n",
    "# num_epochs:5\n",
    "# alpha:250\n",
    "# beta:0\n",
    "# max_beta:1\n",
    "# step_beta:0.002\n",
    "# anneal_iter:40000\n",
    "# kl_anneal_iter:2000\n",
    "# print_iter:100\n",
    "# save_iter:5000\n",
    "# num_workers:4"
   ]
  },
  {
   "cell_type": "code",
   "execution_count": 2,
   "metadata": {
    "colab": {
     "base_uri": "https://localhost:8080/",
     "height": 1000
    },
    "gradient": {
     "editing": false,
     "id": "18de9aeb-6551-42f6-8c11-a0e30bd207d6",
     "kernelId": "dcb13b96-53c0-4a94-b7ff-08f48ec3f7ee"
    },
    "id": "JDinHdioUZRH",
    "outputId": "1a824742-d528-46a2-8d89-7697a166c20f"
   },
   "outputs": [
    {
     "name": "stdout",
     "output_type": "stream",
     "text": [
      "\u001b[33mWARNING: Running pip as the 'root' user can result in broken permissions and conflicting behaviour with the system package manager. It is recommended to use a virtual environment instead: https://pip.pypa.io/warnings/venv\u001b[0m\u001b[33m\n",
      "\u001b[0m\u001b[33mWARNING: Running pip as the 'root' user can result in broken permissions and conflicting behaviour with the system package manager. It is recommended to use a virtual environment instead: https://pip.pypa.io/warnings/venv\u001b[0m\u001b[33m\n",
      "\u001b[0m"
     ]
    }
   ],
   "source": [
    "!pip install -q torch-scatter torch-sparse torch-cluster torch-spline-conv torch-geometric -f https://data.pyg.org/whl/torch-1.12.0+cu116.html\n",
    "!pip install -q dive-into-graphs"
   ]
  },
  {
   "cell_type": "code",
   "execution_count": 3,
   "metadata": {},
   "outputs": [
    {
     "name": "stdout",
     "output_type": "stream",
     "text": [
      "\u001b[33mWARNING: Running pip as the 'root' user can result in broken permissions and conflicting behaviour with the system package manager. It is recommended to use a virtual environment instead: https://pip.pypa.io/warnings/venv\u001b[0m\u001b[33m\n",
      "\u001b[0m\u001b[33mWARNING: Running pip as the 'root' user can result in broken permissions and conflicting behaviour with the system package manager. It is recommended to use a virtual environment instead: https://pip.pypa.io/warnings/venv\u001b[0m\u001b[33m\n",
      "\u001b[0m"
     ]
    }
   ],
   "source": [
    "!pip install -q toolz\n",
    "!pip install -q wandb"
   ]
  },
  {
   "cell_type": "code",
   "execution_count": 4,
   "metadata": {
    "gradient": {
     "editing": false,
     "id": "f728113a-ff43-466d-b34d-77c9b2e11478",
     "kernelId": "dcb13b96-53c0-4a94-b7ff-08f48ec3f7ee"
    },
    "id": "_RKgd8MsYOYh"
   },
   "outputs": [],
   "source": [
    "%load_ext autoreload\n",
    "%autoreload 2\n",
    "import os\n",
    "import json\n",
    "import argparse\n",
    "import pickle \n",
    "\n",
    "import numpy as np\n",
    "import pandas as pd\n",
    "import torch\n",
    "\n",
    "from molecule_optimizer.externals.fast_jtnn.datautils import SemiMolTreeFolder, SemiMolTreeFolderTest\n",
    "from molecule_optimizer.runner.semi_jtvae import SemiJTVAEGeneratorPredictor\n",
    "from torch_geometric.data import DenseDataLoader\n",
    "\n",
    "import rdkit\n",
    "\n",
    "lg = rdkit.RDLogger.logger() \n",
    "lg.setLevel(rdkit.RDLogger.CRITICAL)\n",
    "\n",
    "import warnings\n",
    "warnings.filterwarnings(\"ignore\")\n",
    "\n",
    "import math"
   ]
  },
  {
   "cell_type": "code",
   "execution_count": 5,
   "metadata": {
    "gradient": {
     "editing": false,
     "id": "6e85f4e2-eab6-4eae-b452-7f089e176039",
     "kernelId": "dcb13b96-53c0-4a94-b7ff-08f48ec3f7ee"
    },
    "id": "2C4erValhPS-"
   },
   "outputs": [],
   "source": [
    "conf = json.load(open(\"training/configs/rand_gen_zinc250k_config_dict.json\"))"
   ]
  },
  {
   "cell_type": "code",
   "execution_count": 6,
   "metadata": {
    "colab": {
     "base_uri": "https://localhost:8080/"
    },
    "gradient": {
     "editing": true,
     "id": "30eb7f71-c38e-49f6-8d84-715ff3d80e08",
     "kernelId": "dcb13b96-53c0-4a94-b7ff-08f48ec3f7ee"
    },
    "id": "SuzGX7ClhKaf",
    "outputId": "ab764f6b-4dd7-4ffc-b6cf-bae47d6cedf7"
   },
   "outputs": [],
   "source": [
    "csv = pd.read_csv(\"ZINC_310k.csv\")"
   ]
  },
  {
   "cell_type": "code",
   "execution_count": 7,
   "metadata": {},
   "outputs": [],
   "source": [
    "smiles = csv['SMILES']"
   ]
  },
  {
   "cell_type": "code",
   "execution_count": 8,
   "metadata": {},
   "outputs": [],
   "source": [
    "smiles = smiles[:60000]"
   ]
  },
  {
   "cell_type": "code",
   "execution_count": 9,
   "metadata": {},
   "outputs": [],
   "source": [
    "labels = torch.tensor(csv['QED'][:60000]).float()"
   ]
  },
  {
   "cell_type": "code",
   "execution_count": 10,
   "metadata": {},
   "outputs": [],
   "source": [
    "# if 'runner.xml' not in os.listdir(\".\"):\n",
    "#     runner = SemiJTVAEGeneratorPredictor(smiles)\n",
    "#     with open('runner.xml', 'wb') as f:\n",
    "#         pickle.dump(runner, f)"
   ]
  },
  {
   "cell_type": "code",
   "execution_count": 11,
   "metadata": {},
   "outputs": [],
   "source": [
    "if 'runner_20.xml' not in os.listdir(\".\"):\n",
    "    runner = SemiJTVAEGeneratorPredictor(smiles)\n",
    "    with open('runner_20.xml', 'wb') as f:\n",
    "        pickle.dump(runner, f)"
   ]
  },
  {
   "cell_type": "code",
   "execution_count": 12,
   "metadata": {
    "gradient": {
     "editing": false,
     "id": "fc02ae3d-696b-4c2e-b557-760e6a1a75a9",
     "kernelId": "dcb13b96-53c0-4a94-b7ff-08f48ec3f7ee"
    },
    "id": "uTNMpfWD7b7Q"
   },
   "outputs": [],
   "source": [
    "# with open('runner.xml', 'rb') as f:\n",
    "#     runner = pickle.load(f)"
   ]
  },
  {
   "cell_type": "code",
   "execution_count": 13,
   "metadata": {
    "gradient": {
     "editing": false,
     "id": "fc02ae3d-696b-4c2e-b557-760e6a1a75a9",
     "kernelId": "dcb13b96-53c0-4a94-b7ff-08f48ec3f7ee"
    },
    "id": "uTNMpfWD7b7Q"
   },
   "outputs": [],
   "source": [
    "with open('runner_20.xml', 'rb') as f:\n",
    "    runner = pickle.load(f)"
   ]
  },
  {
   "cell_type": "code",
   "execution_count": 14,
   "metadata": {
    "colab": {
     "base_uri": "https://localhost:8080/"
    },
    "gradient": {
     "editing": false,
     "id": "4ccc9136-0e87-470b-90eb-8e0b92da52bc",
     "kernelId": "dcb13b96-53c0-4a94-b7ff-08f48ec3f7ee"
    },
    "id": "0-1xXVU15z6N",
    "outputId": "c6c328fe-72e4-4401-bce6-8613e7e9319f"
   },
   "outputs": [],
   "source": [
    "runner.get_model(\n",
    "    \"rand_gen\",\n",
    "    {\n",
    "        \"hidden_size\": conf[\"model\"][\"hidden_size\"],\n",
    "        \"latent_size\": conf[\"model\"][\"latent_size\"],\n",
    "        \"depthT\": conf[\"model\"][\"depthT\"],\n",
    "        \"depthG\": conf[\"model\"][\"depthG\"],\n",
    "        \"label_size\": 1,\n",
    "        \"label_mean\": float(torch.mean(labels)),\n",
    "        \"label_var\": float(torch.var(labels)),\n",
    "    },\n",
    ")"
   ]
  },
  {
   "cell_type": "code",
   "execution_count": 15,
   "metadata": {
    "gradient": {
     "editing": false,
     "id": "c177219a-298a-4994-98b9-de76833e14fe",
     "kernelId": "dcb13b96-53c0-4a94-b7ff-08f48ec3f7ee"
    },
    "id": "IGnpfkM_KQXi"
   },
   "outputs": [],
   "source": [
    "labels = runner.get_processed_labels(labels)\n",
    "preprocessed = runner.processed_smiles"
   ]
  },
  {
   "cell_type": "code",
   "execution_count": 16,
   "metadata": {},
   "outputs": [],
   "source": [
    "# N_TEST = 10000\n",
    "N_TEST = 200\n",
    "VAL_FRAC = 0.05"
   ]
  },
  {
   "cell_type": "code",
   "execution_count": 17,
   "metadata": {},
   "outputs": [],
   "source": [
    "perm_id=np.random.permutation(len(labels))\n",
    "X_train = preprocessed[perm_id[N_TEST:]]\n",
    "L_train = torch.tensor(labels.numpy()[perm_id[N_TEST:]])\n",
    "\n",
    "\n",
    "X_test = preprocessed[perm_id[:N_TEST]]\n",
    "L_test = torch.tensor(labels.numpy()[perm_id[:N_TEST]])"
   ]
  },
  {
   "cell_type": "code",
   "execution_count": 18,
   "metadata": {},
   "outputs": [],
   "source": [
    "val_cut = math.floor(len(X_train) * VAL_FRAC)"
   ]
  },
  {
   "cell_type": "code",
   "execution_count": 19,
   "metadata": {},
   "outputs": [],
   "source": [
    "X_Val = X_train[:val_cut]\n",
    "L_Val = L_train[:val_cut]\n",
    "\n",
    "X_train = X_train[val_cut :]\n",
    "L_train = L_train[val_cut :]"
   ]
  },
  {
   "cell_type": "code",
   "execution_count": 20,
   "metadata": {},
   "outputs": [],
   "source": [
    "train_loader = SemiMolTreeFolder(\n",
    "    X_train,\n",
    "    L_train,\n",
    "    runner.vocab,\n",
    "    conf[\"batch_size\"],\n",
    "    label_pct=0.05,\n",
    "    num_workers=conf[\"num_workers\"],\n",
    ")"
   ]
  },
  {
   "cell_type": "code",
   "execution_count": 21,
   "metadata": {
    "gradient": {
     "editing": false,
     "id": "25d5a0be-b1f8-454e-bc3a-82d8489ac3ca",
     "kernelId": "dcb13b96-53c0-4a94-b7ff-08f48ec3f7ee"
    },
    "id": "k19uZMZN9H05"
   },
   "outputs": [],
   "source": [
    "test_loader = SemiMolTreeFolderTest(\n",
    "    X_test,\n",
    "    L_test,\n",
    "    runner.vocab,\n",
    "    conf[\"batch_size\"],\n",
    "    num_workers=conf[\"num_workers\"],\n",
    ")"
   ]
  },
  {
   "cell_type": "code",
   "execution_count": 22,
   "metadata": {},
   "outputs": [],
   "source": [
    "batch_size_val = math.floor(len(X_Val) / 10)\n",
    "\n",
    "val_loader = SemiMolTreeFolderTest(\n",
    "    X_Val,\n",
    "    L_Val,\n",
    "    runner.vocab,\n",
    "    batch_size_val,\n",
    "    num_workers=conf[\"num_workers\"],\n",
    ")"
   ]
  },
  {
   "cell_type": "code",
   "execution_count": null,
   "metadata": {
    "gradient": {
     "editing": false,
     "id": "7cb9e705-09fa-4075-a487-21887ecaeb95",
     "kernelId": "dcb13b96-53c0-4a94-b7ff-08f48ec3f7ee"
    },
    "id": "TMxgCK1Y20mu"
   },
   "outputs": [
    {
     "name": "stdout",
     "output_type": "stream",
     "text": [
      "Training model...\n",
      "Model #Params: 4732K\n",
      "[Train][100] Alpha: 250.000, Beta: 0.000, Loss: 354.30, KL: 82.05, MAE: 0.11687, Word Loss: 92.06, Topo Loss: 27.11, Assm Loss: 8.88, Pred Loss: 0.91, Word: 27.65, Topo: 77.24, Assm: 56.07, PNorm: 102.00, GNorm: 50.00\n",
      "[Train][200] Alpha: 250.000, Beta: 0.000, Loss: 232.48, KL: 93.05, MAE: 0.09677, Word Loss: 60.15, Topo Loss: 16.82, Assm Loss: 8.42, Pred Loss: 0.59, Word: 46.15, Topo: 87.76, Assm: 58.12, PNorm: 105.82, GNorm: 50.00\n",
      "[Train][300] Alpha: 250.000, Beta: 0.000, Loss: 202.29, KL: 121.02, MAE: 0.08923, Word Loss: 53.45, Topo Loss: 12.61, Assm Loss: 8.09, Pred Loss: 0.51, Word: 51.89, Topo: 91.16, Assm: 59.65, PNorm: 108.60, GNorm: 50.00\n",
      "[Train][400] Alpha: 250.000, Beta: 0.000, Loss: 178.73, KL: 136.40, MAE: 0.08224, Word Loss: 49.77, Topo Loss: 11.39, Assm Loss: 8.06, Pred Loss: 0.44, Word: 55.59, Topo: 91.88, Assm: 60.48, PNorm: 111.82, GNorm: 50.00\n",
      "[Train][500] Alpha: 250.000, Beta: 0.000, Loss: 173.14, KL: 160.03, MAE: 0.08067, Word Loss: 47.05, Topo Loss: 10.11, Assm Loss: 7.94, Pred Loss: 0.43, Word: 58.03, Topo: 92.97, Assm: 60.17, PNorm: 114.65, GNorm: 50.00\n",
      "[Train][600] Alpha: 250.000, Beta: 0.000, Loss: 147.12, KL: 206.37, MAE: 0.07261, Word Loss: 44.74, Topo Loss: 9.24, Assm Loss: 7.71, Pred Loss: 0.34, Word: 59.86, Topo: 93.25, Assm: 62.62, PNorm: 117.12, GNorm: 50.00\n",
      "[Train][700] Alpha: 250.000, Beta: 0.000, Loss: 160.06, KL: 200.83, MAE: 0.07785, Word Loss: 42.99, Topo Loss: 9.79, Assm Loss: 7.62, Pred Loss: 0.40, Word: 61.39, Topo: 93.05, Assm: 62.71, PNorm: 119.38, GNorm: 50.00\n",
      "[Train][800] Alpha: 250.000, Beta: 0.000, Loss: 143.68, KL: 215.10, MAE: 0.07317, Word Loss: 42.03, Topo Loss: 8.75, Assm Loss: 7.47, Pred Loss: 0.34, Word: 61.53, Topo: 93.73, Assm: 62.95, PNorm: 121.80, GNorm: 50.00\n",
      "[Train][900] Alpha: 250.000, Beta: 0.000, Loss: 132.94, KL: 228.52, MAE: 0.06815, Word Loss: 41.04, Topo Loss: 8.33, Assm Loss: 7.41, Pred Loss: 0.30, Word: 62.31, Topo: 94.07, Assm: 64.05, PNorm: 124.27, GNorm: 50.00\n",
      "[Train][1000] Alpha: 250.000, Beta: 0.000, Loss: 131.78, KL: 238.45, MAE: 0.06883, Word Loss: 39.51, Topo Loss: 8.65, Assm Loss: 7.38, Pred Loss: 0.30, Word: 63.92, Topo: 93.72, Assm: 63.31, PNorm: 126.87, GNorm: 50.00\n",
      "[Train][1100] Alpha: 250.000, Beta: 0.000, Loss: 117.82, KL: 258.23, MAE: 0.06232, Word Loss: 38.73, Topo Loss: 8.28, Assm Loss: 7.21, Pred Loss: 0.25, Word: 64.16, Topo: 93.93, Assm: 65.13, PNorm: 129.55, GNorm: 50.00\n",
      "[Train][1200] Alpha: 250.000, Beta: 0.000, Loss: 117.78, KL: 273.90, MAE: 0.06406, Word Loss: 37.44, Topo Loss: 7.52, Assm Loss: 7.17, Pred Loss: 0.26, Word: 65.62, Topo: 94.52, Assm: 65.66, PNorm: 132.33, GNorm: 50.00\n",
      "[Train][1300] Alpha: 250.000, Beta: 0.000, Loss: 114.16, KL: 291.57, MAE: 0.06261, Word Loss: 36.04, Topo Loss: 7.12, Assm Loss: 6.97, Pred Loss: 0.26, Word: 66.24, Topo: 94.87, Assm: 66.11, PNorm: 134.75, GNorm: 50.00\n",
      "[Train][1400] Alpha: 250.000, Beta: 0.000, Loss: 105.91, KL: 291.36, MAE: 0.05869, Word Loss: 35.05, Topo Loss: 7.24, Assm Loss: 6.98, Pred Loss: 0.23, Word: 67.35, Topo: 94.90, Assm: 66.18, PNorm: 137.32, GNorm: 50.00\n",
      "[Train][1500] Alpha: 250.000, Beta: 0.000, Loss: 106.46, KL: 302.85, MAE: 0.05964, Word Loss: 34.10, Topo Loss: 7.13, Assm Loss: 6.97, Pred Loss: 0.23, Word: 67.54, Topo: 94.73, Assm: 65.47, PNorm: 139.90, GNorm: 50.00\n",
      "[Train][1600] Alpha: 250.000, Beta: 0.000, Loss: 111.78, KL: 294.00, MAE: 0.06236, Word Loss: 34.11, Topo Loss: 6.99, Assm Loss: 6.65, Pred Loss: 0.26, Word: 67.01, Topo: 95.05, Assm: 68.29, PNorm: 142.31, GNorm: 50.00\n",
      "[Train][1700] Alpha: 250.000, Beta: 0.000, Loss: 110.71, KL: 311.92, MAE: 0.06307, Word Loss: 32.49, Topo Loss: 6.43, Assm Loss: 6.72, Pred Loss: 0.26, Word: 69.00, Topo: 95.34, Assm: 66.96, PNorm: 144.52, GNorm: 50.00\n",
      "[Train][1800] Alpha: 250.000, Beta: 0.000, Loss: 90.28, KL: 321.91, MAE: 0.05298, Word Loss: 30.99, Topo Loss: 6.22, Assm Loss: 6.60, Pred Loss: 0.19, Word: 69.73, Topo: 95.61, Assm: 68.44, PNorm: 147.27, GNorm: 50.00\n"
     ]
    }
   ],
   "source": [
    "print(\"Training model...\")\n",
    "runner.train_gen_pred(\n",
    "    loader=train_loader,\n",
    "    val_loader=val_loader,\n",
    "    test_loader=test_loader,\n",
    "    load_epoch=0,\n",
    "    lr=conf[\"lr\"],\n",
    "    anneal_rate=conf[\"anneal_rate\"],\n",
    "    clip_norm=conf[\"clip_norm\"],\n",
    "    num_epochs=conf[\"num_epochs\"],\n",
    "    alpha=conf[\"alpha\"],\n",
    "    beta=conf[\"beta\"],\n",
    "    max_beta=conf[\"max_beta\"],\n",
    "    step_beta=conf[\"step_beta\"],\n",
    "    anneal_iter=conf[\"anneal_iter\"],\n",
    "    kl_anneal_iter=conf[\"kl_anneal_iter\"],\n",
    "    print_iter=100,\n",
    "    save_iter=conf[\"save_iter\"],\n",
    ")"
   ]
  },
  {
   "cell_type": "code",
   "execution_count": null,
   "metadata": {},
   "outputs": [],
   "source": [
    "print(\"Training model...\")\n",
    "runner.train_gen_pred_supervised(\n",
    "    loader=train_loader,\n",
    "    val_loader=val_loader,\n",
    "    test_loader=test_loader,\n",
    "    load_epoch=0,\n",
    "    lr=conf[\"lr\"],\n",
    "    anneal_rate=conf[\"anneal_rate\"],\n",
    "    clip_norm=conf[\"clip_norm\"],\n",
    "    num_epochs=conf[\"num_epochs\"],\n",
    "    alpha=50,\n",
    "    beta=conf[\"beta\"],\n",
    "    max_beta=conf[\"max_beta\"],\n",
    "    step_beta=conf[\"step_beta\"],\n",
    "    anneal_iter=conf[\"anneal_iter\"],\n",
    "    kl_anneal_iter=conf[\"kl_anneal_iter\"],\n",
    "    print_iter=100,\n",
    "    save_iter=conf[\"save_iter\"],\n",
    ")"
   ]
  },
  {
   "cell_type": "code",
   "execution_count": null,
   "metadata": {},
   "outputs": [],
   "source": []
  }
 ],
 "metadata": {
  "accelerator": "GPU",
  "colab": {
   "background_execution": "on",
   "collapsed_sections": [],
   "include_colab_link": true,
   "machine_shape": "hm",
   "name": "Copy of google_colab.ipynb",
   "provenance": []
  },
  "kernelspec": {
   "display_name": "Python 3 (ipykernel)",
   "language": "python",
   "name": "python3"
  },
  "language_info": {
   "codemirror_mode": {
    "name": "ipython",
    "version": 3
   },
   "file_extension": ".py",
   "mimetype": "text/x-python",
   "name": "python",
   "nbconvert_exporter": "python",
   "pygments_lexer": "ipython3",
   "version": "3.9.13"
  }
 },
 "nbformat": 4,
 "nbformat_minor": 4
}
